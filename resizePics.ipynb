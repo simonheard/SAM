{
 "cells": [
  {
   "cell_type": "code",
   "execution_count": 5,
   "metadata": {},
   "outputs": [
    {
     "name": "stderr",
     "output_type": "stream",
     "text": [
      "<>:3: SyntaxWarning: invalid escape sequence '\\d'\n",
      "<>:6: SyntaxWarning: invalid escape sequence '\\d'\n",
      "<>:3: SyntaxWarning: invalid escape sequence '\\d'\n",
      "<>:6: SyntaxWarning: invalid escape sequence '\\d'\n",
      "C:\\Users\\simon\\AppData\\Local\\Temp\\ipykernel_13476\\4087576916.py:3: SyntaxWarning: invalid escape sequence '\\d'\n",
      "  with Image.open('originalPics\\day34.png') as img:\n",
      "C:\\Users\\simon\\AppData\\Local\\Temp\\ipykernel_13476\\4087576916.py:6: SyntaxWarning: invalid escape sequence '\\d'\n",
      "  cropped_img.save('inputPics\\day34.png')\n"
     ]
    }
   ],
   "source": [
    "from PIL import Image\n",
    "\n",
    "with Image.open('originalPics\\day34.png') as img:\n",
    "    crop_area = (110, 100, 2900, 1600)\n",
    "    cropped_img = img.crop(crop_area)\n",
    "    cropped_img.save('inputPics\\day34.png')\n"
   ]
  },
  {
   "cell_type": "code",
   "execution_count": 6,
   "metadata": {},
   "outputs": [
    {
     "name": "stderr",
     "output_type": "stream",
     "text": [
      "<>:1: SyntaxWarning: invalid escape sequence '\\d'\n",
      "<>:4: SyntaxWarning: invalid escape sequence '\\d'\n",
      "<>:1: SyntaxWarning: invalid escape sequence '\\d'\n",
      "<>:4: SyntaxWarning: invalid escape sequence '\\d'\n",
      "C:\\Users\\simon\\AppData\\Local\\Temp\\ipykernel_13476\\3742990683.py:1: SyntaxWarning: invalid escape sequence '\\d'\n",
      "  with Image.open('originalPics\\day35.png') as img:\n",
      "C:\\Users\\simon\\AppData\\Local\\Temp\\ipykernel_13476\\3742990683.py:4: SyntaxWarning: invalid escape sequence '\\d'\n",
      "  cropped_img.save('inputPics\\day35.png')\n"
     ]
    }
   ],
   "source": [
    "with Image.open('originalPics\\day35.png') as img:\n",
    "    crop_area = (110, 100, 2900, 1600)\n",
    "    cropped_img = img.crop(crop_area)\n",
    "    cropped_img.save('inputPics\\day35.png')"
   ]
  },
  {
   "cell_type": "code",
   "execution_count": 7,
   "metadata": {},
   "outputs": [
    {
     "name": "stderr",
     "output_type": "stream",
     "text": [
      "<>:1: SyntaxWarning: invalid escape sequence '\\d'\n",
      "<>:4: SyntaxWarning: invalid escape sequence '\\d'\n",
      "<>:1: SyntaxWarning: invalid escape sequence '\\d'\n",
      "<>:4: SyntaxWarning: invalid escape sequence '\\d'\n",
      "C:\\Users\\simon\\AppData\\Local\\Temp\\ipykernel_13476\\3339628364.py:1: SyntaxWarning: invalid escape sequence '\\d'\n",
      "  with Image.open('originalPics\\day36.png') as img:\n",
      "C:\\Users\\simon\\AppData\\Local\\Temp\\ipykernel_13476\\3339628364.py:4: SyntaxWarning: invalid escape sequence '\\d'\n",
      "  cropped_img.save('inputPics\\day36.png')\n"
     ]
    }
   ],
   "source": [
    "with Image.open('originalPics\\day36.png') as img:\n",
    "    crop_area = (110, 100, 2900, 1600)\n",
    "    cropped_img = img.crop(crop_area)\n",
    "    cropped_img.save('inputPics\\day36.png')"
   ]
  },
  {
   "cell_type": "code",
   "execution_count": 8,
   "metadata": {},
   "outputs": [
    {
     "name": "stderr",
     "output_type": "stream",
     "text": [
      "<>:1: SyntaxWarning: invalid escape sequence '\\d'\n",
      "<>:4: SyntaxWarning: invalid escape sequence '\\d'\n",
      "<>:1: SyntaxWarning: invalid escape sequence '\\d'\n",
      "<>:4: SyntaxWarning: invalid escape sequence '\\d'\n",
      "C:\\Users\\simon\\AppData\\Local\\Temp\\ipykernel_13476\\566712924.py:1: SyntaxWarning: invalid escape sequence '\\d'\n",
      "  with Image.open('originalPics\\day37.png') as img:\n",
      "C:\\Users\\simon\\AppData\\Local\\Temp\\ipykernel_13476\\566712924.py:4: SyntaxWarning: invalid escape sequence '\\d'\n",
      "  cropped_img.save('inputPics\\day37.png')\n"
     ]
    }
   ],
   "source": [
    "with Image.open('originalPics\\day37.png') as img:\n",
    "    crop_area = (110, 100, 2900, 1600)\n",
    "    cropped_img = img.crop(crop_area)\n",
    "    cropped_img.save('inputPics\\day37.png')"
   ]
  },
  {
   "cell_type": "code",
   "execution_count": 9,
   "metadata": {},
   "outputs": [
    {
     "name": "stderr",
     "output_type": "stream",
     "text": [
      "<>:1: SyntaxWarning: invalid escape sequence '\\d'\n",
      "<>:4: SyntaxWarning: invalid escape sequence '\\d'\n",
      "<>:1: SyntaxWarning: invalid escape sequence '\\d'\n",
      "<>:4: SyntaxWarning: invalid escape sequence '\\d'\n",
      "C:\\Users\\simon\\AppData\\Local\\Temp\\ipykernel_13476\\3427829117.py:1: SyntaxWarning: invalid escape sequence '\\d'\n",
      "  with Image.open('originalPics\\day38.png') as img:\n",
      "C:\\Users\\simon\\AppData\\Local\\Temp\\ipykernel_13476\\3427829117.py:4: SyntaxWarning: invalid escape sequence '\\d'\n",
      "  cropped_img.save('inputPics\\day38.png')\n"
     ]
    }
   ],
   "source": [
    "with Image.open('originalPics\\day38.png') as img:\n",
    "    crop_area = (110, 100, 2900, 1600)\n",
    "    cropped_img = img.crop(crop_area)\n",
    "    cropped_img.save('inputPics\\day38.png')"
   ]
  },
  {
   "cell_type": "code",
   "execution_count": 10,
   "metadata": {},
   "outputs": [
    {
     "name": "stderr",
     "output_type": "stream",
     "text": [
      "<>:1: SyntaxWarning: invalid escape sequence '\\d'\n",
      "<>:4: SyntaxWarning: invalid escape sequence '\\d'\n",
      "<>:1: SyntaxWarning: invalid escape sequence '\\d'\n",
      "<>:4: SyntaxWarning: invalid escape sequence '\\d'\n",
      "C:\\Users\\simon\\AppData\\Local\\Temp\\ipykernel_13476\\1531140921.py:1: SyntaxWarning: invalid escape sequence '\\d'\n",
      "  with Image.open('originalPics\\day39.png') as img:\n",
      "C:\\Users\\simon\\AppData\\Local\\Temp\\ipykernel_13476\\1531140921.py:4: SyntaxWarning: invalid escape sequence '\\d'\n",
      "  cropped_img.save('inputPics\\day39.png')\n"
     ]
    }
   ],
   "source": [
    "with Image.open('originalPics\\day39.png') as img:\n",
    "    crop_area = (110, 100, 2900, 1600)\n",
    "    cropped_img = img.crop(crop_area)\n",
    "    cropped_img.save('inputPics\\day39.png')"
   ]
  },
  {
   "cell_type": "code",
   "execution_count": 11,
   "metadata": {},
   "outputs": [
    {
     "name": "stderr",
     "output_type": "stream",
     "text": [
      "<>:1: SyntaxWarning: invalid escape sequence '\\d'\n",
      "<>:4: SyntaxWarning: invalid escape sequence '\\d'\n",
      "<>:1: SyntaxWarning: invalid escape sequence '\\d'\n",
      "<>:4: SyntaxWarning: invalid escape sequence '\\d'\n",
      "C:\\Users\\simon\\AppData\\Local\\Temp\\ipykernel_13476\\3439568716.py:1: SyntaxWarning: invalid escape sequence '\\d'\n",
      "  with Image.open('originalPics\\day40.png') as img:\n",
      "C:\\Users\\simon\\AppData\\Local\\Temp\\ipykernel_13476\\3439568716.py:4: SyntaxWarning: invalid escape sequence '\\d'\n",
      "  cropped_img.save('inputPics\\day40.png')\n"
     ]
    }
   ],
   "source": [
    "with Image.open('originalPics\\day40.png') as img:\n",
    "    crop_area = (110, 100, 2900, 1600)\n",
    "    cropped_img = img.crop(crop_area)\n",
    "    cropped_img.save('inputPics\\day40.png')"
   ]
  },
  {
   "cell_type": "code",
   "execution_count": 12,
   "metadata": {},
   "outputs": [
    {
     "name": "stderr",
     "output_type": "stream",
     "text": [
      "<>:1: SyntaxWarning: invalid escape sequence '\\d'\n",
      "<>:4: SyntaxWarning: invalid escape sequence '\\d'\n",
      "<>:1: SyntaxWarning: invalid escape sequence '\\d'\n",
      "<>:4: SyntaxWarning: invalid escape sequence '\\d'\n",
      "C:\\Users\\simon\\AppData\\Local\\Temp\\ipykernel_13476\\3738384671.py:1: SyntaxWarning: invalid escape sequence '\\d'\n",
      "  with Image.open('originalPics\\day41.png') as img:\n",
      "C:\\Users\\simon\\AppData\\Local\\Temp\\ipykernel_13476\\3738384671.py:4: SyntaxWarning: invalid escape sequence '\\d'\n",
      "  cropped_img.save('inputPics\\day41.png')\n"
     ]
    }
   ],
   "source": [
    "with Image.open('originalPics\\day41.png') as img:\n",
    "    crop_area = (110, 100, 2900, 1600)\n",
    "    cropped_img = img.crop(crop_area)\n",
    "    cropped_img.save('inputPics\\day41.png')"
   ]
  },
  {
   "cell_type": "code",
   "execution_count": 13,
   "metadata": {},
   "outputs": [
    {
     "name": "stderr",
     "output_type": "stream",
     "text": [
      "<>:1: SyntaxWarning: invalid escape sequence '\\d'\n",
      "<>:4: SyntaxWarning: invalid escape sequence '\\d'\n",
      "<>:1: SyntaxWarning: invalid escape sequence '\\d'\n",
      "<>:4: SyntaxWarning: invalid escape sequence '\\d'\n",
      "C:\\Users\\simon\\AppData\\Local\\Temp\\ipykernel_13476\\2319267601.py:1: SyntaxWarning: invalid escape sequence '\\d'\n",
      "  with Image.open('originalPics\\day42.png') as img:\n",
      "C:\\Users\\simon\\AppData\\Local\\Temp\\ipykernel_13476\\2319267601.py:4: SyntaxWarning: invalid escape sequence '\\d'\n",
      "  cropped_img.save('inputPics\\day42.png')\n"
     ]
    }
   ],
   "source": [
    "with Image.open('originalPics\\day42.png') as img:\n",
    "    crop_area = (110, 100, 2900, 1600)\n",
    "    cropped_img = img.crop(crop_area)\n",
    "    cropped_img.save('inputPics\\day42.png')"
   ]
  },
  {
   "cell_type": "code",
   "execution_count": 14,
   "metadata": {},
   "outputs": [
    {
     "name": "stderr",
     "output_type": "stream",
     "text": [
      "<>:1: SyntaxWarning: invalid escape sequence '\\d'\n",
      "<>:4: SyntaxWarning: invalid escape sequence '\\d'\n",
      "<>:1: SyntaxWarning: invalid escape sequence '\\d'\n",
      "<>:4: SyntaxWarning: invalid escape sequence '\\d'\n",
      "C:\\Users\\simon\\AppData\\Local\\Temp\\ipykernel_13476\\4276398808.py:1: SyntaxWarning: invalid escape sequence '\\d'\n",
      "  with Image.open('originalPics\\day43.png') as img:\n",
      "C:\\Users\\simon\\AppData\\Local\\Temp\\ipykernel_13476\\4276398808.py:4: SyntaxWarning: invalid escape sequence '\\d'\n",
      "  cropped_img.save('inputPics\\day43.png')\n"
     ]
    }
   ],
   "source": [
    "with Image.open('originalPics\\day43.png') as img:\n",
    "    crop_area = (110, 100, 2900, 1600)\n",
    "    cropped_img = img.crop(crop_area)\n",
    "    cropped_img.save('inputPics\\day43.png')"
   ]
  }
 ],
 "metadata": {
  "kernelspec": {
   "display_name": "venv",
   "language": "python",
   "name": "python3"
  },
  "language_info": {
   "codemirror_mode": {
    "name": "ipython",
    "version": 3
   },
   "file_extension": ".py",
   "mimetype": "text/x-python",
   "name": "python",
   "nbconvert_exporter": "python",
   "pygments_lexer": "ipython3",
   "version": "3.12.0"
  }
 },
 "nbformat": 4,
 "nbformat_minor": 2
}
